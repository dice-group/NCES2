{
 "cells": [
  {
   "cell_type": "code",
   "execution_count": 1,
   "id": "optical-suspension",
   "metadata": {},
   "outputs": [],
   "source": [
    "import json"
   ]
  },
  {
   "cell_type": "code",
   "execution_count": 2,
   "id": "initial-baseline",
   "metadata": {},
   "outputs": [],
   "source": [
    "def rename_metric(metric):\n",
    "    if metric == 'F-measure':\n",
    "        return 'f1'\n",
    "    if metric == 'Accuracy':\n",
    "        return 'acc'\n",
    "    if metric == 'Runtime':\n",
    "        return 'time'\n",
    "    raise ValueError('Unknown metric')"
   ]
  },
  {
   "cell_type": "code",
   "execution_count": 5,
   "id": "impossible-senator",
   "metadata": {},
   "outputs": [],
   "source": [
    "def get_results(metric, kb_emb_model):\n",
    "    Res = {metric: {'Carcinogenesis': {'CELOE': '', 'ELTL': '', 'ECII': '', 'EvoLearner': '', 'NCES$_{m\\\\text{=32}}$': '', 'NCES$_{m\\\\text{=64}}$': '',\\\n",
    "                                       'NCES$_{m\\\\text{=128}}$': '', 'NCES$_{m\\\\text{=32+}m\\\\text{=64}}$': '', 'NCES$_{m\\\\text{=32+}m\\\\text{=128}}$': '',\\\n",
    "                                       'NCES$_{m\\\\text{=64+}m\\\\text{=128}}$': '', 'NCES$_{m\\\\text{=32+}m\\\\text{=64+}m\\\\text{=128}}$': ''},\n",
    "                   'Mutagenesis': {'CELOE': '', 'ELTL': '', 'ECII': '', 'EvoLearner': '', 'NCES$_{m\\\\text{=32}}$': '', 'NCES$_{m\\\\text{=64}}$': '',\\\n",
    "                                       'NCES$_{m\\\\text{=128}}$': '', 'NCES$_{m\\\\text{=32+}m\\\\text{=64}}$': '', 'NCES$_{m\\\\text{=32+}m\\\\text{=128}}$': '',\\\n",
    "                                       'NCES$_{m\\\\text{=64+}m\\\\text{=128}}$': '', 'NCES$_{m\\\\text{=32+}m\\\\text{=64+}m\\\\text{=128}}$': ''},\n",
    "                    'Semantic Bible': {'CELOE': '', 'ELTL': '', 'ECII': '', 'EvoLearner': '', 'NCES$_{m\\\\text{=32}}$': '', 'NCES$_{m\\\\text{=64}}$': '',\\\n",
    "                                       'NCES$_{m\\\\text{=128}}$': '', 'NCES$_{m\\\\text{=32+}m\\\\text{=64}}$': '', 'NCES$_{m\\\\text{=32+}m\\\\text{=128}}$': '',\\\n",
    "                                       'NCES$_{m\\\\text{=64+}m\\\\text{=128}}$': '', 'NCES$_{m\\\\text{=32+}m\\\\text{=64+}m\\\\text{=128}}$': ''},\n",
    "                    'Vicodi': {'CELOE': '', 'ELTL': '', 'ECII': '', 'EvoLearner': '', 'NCES$_{m\\\\text{=32}}$': '', 'NCES$_{m\\\\text{=64}}$': '',\\\n",
    "                                       'NCES$_{m\\\\text{=128}}$': '', 'NCES$_{m\\\\text{=32+}m\\\\text{=64}}$': '', 'NCES$_{m\\\\text{=32+}m\\\\text{=128}}$': '',\\\n",
    "                                       'NCES$_{m\\\\text{=64+}m\\\\text{=128}}$': '', 'NCES$_{m\\\\text{=32+}m\\\\text{=64+}m\\\\text{=128}}$': ''}\n",
    "                   }}\n",
    "    for kb in ['carcinogenesis', 'mutagenesis', 'semantic_bible', 'vicodi']:\n",
    "        for model in ['celoe', 'eltl', 'ecii', 'evolearner', f'NCES_{kb_emb_model}', f'NCES_{kb_emb_model}_Ensemble']:\n",
    "            if model not in [f'NCES_{kb_emb_model}', f'NCES_{kb_emb_model}_Ensemble']:\n",
    "                with open(f'datasets/{kb}/Results/concept_learning_avg_results__{model}.json') as file:\n",
    "                    results = json.load(file)\n",
    "                rename_model = model.upper() if model != 'evolearner' else 'EvoLearner'\n",
    "                if model == 'ecii':\n",
    "                    if metric != 'Accuracy':\n",
    "                        Res[metric][' '.join(word.capitalize() for word in kb.split('_'))][rename_model] =\\\n",
    "                    str(round(100*results[metric]['mean'],2))+'$\\pm$'+str(round(100*results[metric]['std'],2))\n",
    "                    else:\n",
    "                        Res[metric][' '.join(word.capitalize() for word in kb.split('_'))][rename_model] =\\\n",
    "                    '-'+'$\\pm$'+'-'\n",
    "                else:\n",
    "                    Res[metric][' '.join(word.capitalize() for word in kb.split('_'))][rename_model] =\\\n",
    "                    str(round(results[metric]['mean'],2))+'$\\pm$'+str(round(results[metric]['std'],2))\n",
    "            elif model == f'NCES_{kb_emb_model}':\n",
    "                with open(f'datasets/{kb}/Results/{model}.json') as file:\n",
    "                    results = json.load(file)\n",
    "                new_metric = rename_metric(metric)\n",
    "                for m in results:\n",
    "                    inducing_points = m.split(\"I\")[-1]\n",
    "                    rename_model = 'NCES$_{m\\\\text{='+inducing_points+'}}$'\n",
    "                    Res[metric][' '.join(word.capitalize() for word in kb.split('_'))][rename_model] =\\\n",
    "                    str(round(results[m][new_metric]['mean'][0],2))+'$\\pm$'+str(round(results[m][new_metric]['std'][0],2))\n",
    "            elif model == f'NCES_{kb_emb_model}_Ensemble':\n",
    "                with open(f'datasets/{kb}/Results/{model}.json') as file:\n",
    "                    results = json.load(file)\n",
    "                new_metric = rename_metric(metric)\n",
    "                for m in results:\n",
    "                    inducing_points = [name.split(\"I\")[-1] for name in m.split(\"+\")]\n",
    "                    new_name = ''\n",
    "                    for i,ind_pt in enumerate(inducing_points):\n",
    "                        if i != len(inducing_points)-1:\n",
    "                            new_name += 'm\\\\text{='+ind_pt+'+}'\n",
    "                        else:\n",
    "                            new_name += 'm\\\\text{='+ind_pt+'}'\n",
    "                    rename_model = 'NCES$_{'+new_name+'}$'\n",
    "                    Res[metric][' '.join(word.capitalize() for word in kb.split('_'))][rename_model] =\\\n",
    "                    str(round(results[m][new_metric]['mean'][0],2))+'$\\pm$'+str(round(results[m][new_metric]['std'][0],2))\n",
    "    return Res"
   ]
  },
  {
   "cell_type": "code",
   "execution_count": 13,
   "id": "premium-ensemble",
   "metadata": {},
   "outputs": [],
   "source": [
    "Res1 = get_results('F-measure', 'ConEx')"
   ]
  },
  {
   "cell_type": "code",
   "execution_count": 14,
   "id": "flexible-rubber",
   "metadata": {},
   "outputs": [
    {
     "data": {
      "text/plain": [
       "{'F-measure': {'Carcinogenesis': {'CELOE': '60.7$\\\\pm$38.05',\n",
       "   'ELTL': '41.0$\\\\pm$32.17',\n",
       "   'ECII': '35.15$\\\\pm$38.19',\n",
       "   'EvoLearner': '91.32$\\\\pm$15.94',\n",
       "   'NCES$_{m\\\\text{=32}}$': '79.05$\\\\pm$32.8',\n",
       "   'NCES$_{m\\\\text{=64}}$': '74.31$\\\\pm$36.56',\n",
       "   'NCES$_{m\\\\text{=128}}$': '79.72$\\\\pm$33.86',\n",
       "   'NCES$_{m\\\\text{=32+}m\\\\text{=64}}$': '87.49$\\\\pm$29.25',\n",
       "   'NCES$_{m\\\\text{=32+}m\\\\text{=128}}$': '90.59$\\\\pm$24.23',\n",
       "   'NCES$_{m\\\\text{=64+}m\\\\text{=128}}$': '87.0$\\\\pm$28.14',\n",
       "   'NCES$_{m\\\\text{=32+}m\\\\text{=64+}m\\\\text{=128}}$': '91.84$\\\\pm$23.36'},\n",
       "  'Mutagenesis': {'CELOE': '97.41$\\\\pm$13.65',\n",
       "   'ELTL': '52.99$\\\\pm$35.43',\n",
       "   'ECII': '55.34$\\\\pm$41.27',\n",
       "   'EvoLearner': '96.65$\\\\pm$5.52',\n",
       "   'NCES$_{m\\\\text{=32}}$': '68.42$\\\\pm$42.31',\n",
       "   'NCES$_{m\\\\text{=64}}$': '75.94$\\\\pm$34.1',\n",
       "   'NCES$_{m\\\\text{=128}}$': '82.06$\\\\pm$28.21',\n",
       "   'NCES$_{m\\\\text{=32+}m\\\\text{=64}}$': '74.54$\\\\pm$37.82',\n",
       "   'NCES$_{m\\\\text{=32+}m\\\\text{=128}}$': '78.3$\\\\pm$35.63',\n",
       "   'NCES$_{m\\\\text{=64+}m\\\\text{=128}}$': '77.99$\\\\pm$31.62',\n",
       "   'NCES$_{m\\\\text{=32+}m\\\\text{=64+}m\\\\text{=128}}$': '83.39$\\\\pm$30.82'},\n",
       "  'Semantic Bible': {'CELOE': '86.42$\\\\pm$19.98',\n",
       "   'ELTL': '33.68$\\\\pm$26.57',\n",
       "   'ECII': '32.23$\\\\pm$35.75',\n",
       "   'EvoLearner': '91.94$\\\\pm$11.56',\n",
       "   'NCES$_{m\\\\text{=32}}$': '57.43$\\\\pm$40.72',\n",
       "   'NCES$_{m\\\\text{=64}}$': '65.98$\\\\pm$32.22',\n",
       "   'NCES$_{m\\\\text{=128}}$': '69.14$\\\\pm$30.66',\n",
       "   'NCES$_{m\\\\text{=32+}m\\\\text{=64}}$': '65.89$\\\\pm$37.29',\n",
       "   'NCES$_{m\\\\text{=32+}m\\\\text{=128}}$': '74.03$\\\\pm$28.65',\n",
       "   'NCES$_{m\\\\text{=64+}m\\\\text{=128}}$': '64.28$\\\\pm$34.66',\n",
       "   'NCES$_{m\\\\text{=32+}m\\\\text{=64+}m\\\\text{=128}}$': '68.57$\\\\pm$35.07'},\n",
       "  'Vicodi': {'CELOE': '57.03$\\\\pm$35.23',\n",
       "   'ELTL': '39.91$\\\\pm$35.15',\n",
       "   'ECII': '87.27$\\\\pm$20.29',\n",
       "   'EvoLearner': '90.58$\\\\pm$14.78',\n",
       "   'NCES$_{m\\\\text{=32}}$': '86.9$\\\\pm$27.57',\n",
       "   'NCES$_{m\\\\text{=64}}$': '81.07$\\\\pm$33.7',\n",
       "   'NCES$_{m\\\\text{=128}}$': '80.12$\\\\pm$34.06',\n",
       "   'NCES$_{m\\\\text{=32+}m\\\\text{=64}}$': '89.77$\\\\pm$27.0',\n",
       "   'NCES$_{m\\\\text{=32+}m\\\\text{=128}}$': '89.78$\\\\pm$25.63',\n",
       "   'NCES$_{m\\\\text{=64+}m\\\\text{=128}}$': '86.32$\\\\pm$30.27',\n",
       "   'NCES$_{m\\\\text{=32+}m\\\\text{=64+}m\\\\text{=128}}$': '90.66$\\\\pm$25.71'}}}"
      ]
     },
     "execution_count": 14,
     "metadata": {},
     "output_type": "execute_result"
    }
   ],
   "source": [
    "Res1"
   ]
  },
  {
   "cell_type": "code",
   "execution_count": 6,
   "id": "universal-judge",
   "metadata": {},
   "outputs": [],
   "source": [
    "def write_results(metric, kb_emb_model):\n",
    "    data = get_results(metric, kb_emb_model)\n",
    "    with open(f'{kb_emb_model}_{metric}.txt', 'w') as file:\n",
    "        for key in data:\n",
    "            file.write(\"\\\\begin{tabular}{@{}lccccccc@{}}\\n\")\n",
    "            file.write(\"\\t\\t\\\\toprule\\n\")\n",
    "            file.write(\"\\t\\t& \\\\multicolumn{4}{c}{\"+\"$\"+metric+\"(\\%)$}\\\\\\\\\\n\")\n",
    "            file.write(\"\\t\\t&\"+\" & \".join([\"\\\\textbf{\"+kb+\"}\" for kb in data[key]])+\"\\\\\\\\\\n\")\n",
    "            file.write(\"\\\\midrule\\n\")\n",
    "            for model in data[key]['Carcinogenesis']:\n",
    "                file.write(\"\\t\\t\"+model+\" & \"+\" & \".join([data[key][kb][model] for kb in data[key]])+\"\\\\\\\\\\n\")"
   ]
  },
  {
   "cell_type": "code",
   "execution_count": 19,
   "id": "rolled-montreal",
   "metadata": {},
   "outputs": [],
   "source": [
    "write_results('F-measure', 'ConEx')"
   ]
  },
  {
   "cell_type": "code",
   "execution_count": 22,
   "id": "round-maintenance",
   "metadata": {},
   "outputs": [],
   "source": [
    "write_results('Accuracy', 'ConEx')"
   ]
  },
  {
   "cell_type": "code",
   "execution_count": 23,
   "id": "exact-richardson",
   "metadata": {},
   "outputs": [],
   "source": [
    "write_results('Runtime', 'ConEx')"
   ]
  },
  {
   "cell_type": "code",
   "execution_count": null,
   "id": "common-camera",
   "metadata": {},
   "outputs": [],
   "source": []
  },
  {
   "cell_type": "code",
   "execution_count": 7,
   "id": "private-suicide",
   "metadata": {},
   "outputs": [],
   "source": [
    "write_results('F-measure', 'Distmult')"
   ]
  },
  {
   "cell_type": "code",
   "execution_count": 9,
   "id": "precise-possibility",
   "metadata": {},
   "outputs": [],
   "source": [
    "write_results('Accuracy', 'Distmult')"
   ]
  },
  {
   "cell_type": "code",
   "execution_count": 8,
   "id": "funded-robert",
   "metadata": {},
   "outputs": [],
   "source": [
    "write_results('Runtime', 'Distmult')"
   ]
  },
  {
   "cell_type": "code",
   "execution_count": null,
   "id": "lucky-toolbox",
   "metadata": {},
   "outputs": [],
   "source": []
  }
 ],
 "metadata": {
  "kernelspec": {
   "display_name": "nces",
   "language": "python",
   "name": "nces"
  },
  "language_info": {
   "codemirror_mode": {
    "name": "ipython",
    "version": 3
   },
   "file_extension": ".py",
   "mimetype": "text/x-python",
   "name": "python",
   "nbconvert_exporter": "python",
   "pygments_lexer": "ipython3",
   "version": "3.9.4"
  }
 },
 "nbformat": 4,
 "nbformat_minor": 5
}
