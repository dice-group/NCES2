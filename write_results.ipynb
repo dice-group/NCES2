{
 "cells": [
  {
   "cell_type": "code",
   "execution_count": 1,
   "id": "reflected-phenomenon",
   "metadata": {},
   "outputs": [],
   "source": [
    "import json"
   ]
  },
  {
   "cell_type": "code",
   "execution_count": 2,
   "id": "derived-hepatitis",
   "metadata": {},
   "outputs": [],
   "source": [
    "def rename_metric(metric):\n",
    "    if metric == 'F-measure':\n",
    "        return 'f1'\n",
    "    if metric == 'Accuracy':\n",
    "        return 'acc'\n",
    "    if metric == 'Runtime':\n",
    "        return 'time'\n",
    "    raise ValueError('Unknown metric')"
   ]
  },
  {
   "cell_type": "code",
   "execution_count": 3,
   "id": "transparent-recipient",
   "metadata": {},
   "outputs": [],
   "source": [
    "def get_results(metric, kb_emb_model):\n",
    "    Res = {metric: {'Carcinogenesis': {'CELOE': '', 'ELTL': '', 'ECII': '', 'EvoLearner': '', 'NCES$_{m\\\\text{=32}}$': '', 'NCES$_{m\\\\text{=64}}$': '',\\\n",
    "                                       'NCES$_{m\\\\text{=128}}$': '', 'NCES$_{m\\\\text{=32+}m\\\\text{=64}}$': '', 'NCES$_{m\\\\text{=32+}m\\\\text{=128}}$': '',\\\n",
    "                                       'NCES$_{m\\\\text{=64+}m\\\\text{=128}}$': '', 'NCES$_{m\\\\text{=32+}m\\\\text{=64+}m\\\\text{=128}}$': ''},\n",
    "                   'Mutagenesis': {'CELOE': '', 'ELTL': '', 'ECII': '', 'EvoLearner': '', 'NCES$_{m\\\\text{=32}}$': '', 'NCES$_{m\\\\text{=64}}$': '',\\\n",
    "                                       'NCES$_{m\\\\text{=128}}$': '', 'NCES$_{m\\\\text{=32+}m\\\\text{=64}}$': '', 'NCES$_{m\\\\text{=32+}m\\\\text{=128}}$': '',\\\n",
    "                                       'NCES$_{m\\\\text{=64+}m\\\\text{=128}}$': '', 'NCES$_{m\\\\text{=32+}m\\\\text{=64+}m\\\\text{=128}}$': ''},\n",
    "                    'Semantic Bible': {'CELOE': '', 'ELTL': '', 'ECII': '', 'EvoLearner': '', 'NCES$_{m\\\\text{=32}}$': '', 'NCES$_{m\\\\text{=64}}$': '',\\\n",
    "                                       'NCES$_{m\\\\text{=128}}$': '', 'NCES$_{m\\\\text{=32+}m\\\\text{=64}}$': '', 'NCES$_{m\\\\text{=32+}m\\\\text{=128}}$': '',\\\n",
    "                                       'NCES$_{m\\\\text{=64+}m\\\\text{=128}}$': '', 'NCES$_{m\\\\text{=32+}m\\\\text{=64+}m\\\\text{=128}}$': ''},\n",
    "                    'Vicodi': {'CELOE': '', 'ELTL': '', 'ECII': '', 'EvoLearner': '', 'NCES$_{m\\\\text{=32}}$': '', 'NCES$_{m\\\\text{=64}}$': '',\\\n",
    "                                       'NCES$_{m\\\\text{=128}}$': '', 'NCES$_{m\\\\text{=32+}m\\\\text{=64}}$': '', 'NCES$_{m\\\\text{=32+}m\\\\text{=128}}$': '',\\\n",
    "                                       'NCES$_{m\\\\text{=64+}m\\\\text{=128}}$': '', 'NCES$_{m\\\\text{=32+}m\\\\text{=64+}m\\\\text{=128}}$': ''}\n",
    "                   }}\n",
    "    for kb in ['carcinogenesis', 'mutagenesis', 'semantic_bible', 'vicodi']:\n",
    "        for model in ['celoe', 'eltl', 'ecii', 'evolearner', f'NCES_{kb_emb_model}', f'NCES_{kb_emb_model}_Ensemble']:\n",
    "            if model not in [f'NCES_{kb_emb_model}', f'NCES_{kb_emb_model}_Ensemble']:\n",
    "                with open(f'datasets/{kb}/Results/concept_learning_avg_results__{model}.json') as file:\n",
    "                    results = json.load(file)\n",
    "                rename_model = model.upper() if model != 'evolearner' else 'EvoLearner'\n",
    "                if model == 'ecii':\n",
    "                    if metric != 'Accuracy':\n",
    "                        Res[metric][' '.join(word.capitalize() for word in kb.split('_'))][rename_model] =\\\n",
    "                    str(round(100*results[metric]['mean'],2))+'$\\pm$'+str(round(100*results[metric]['std'],2))\n",
    "                    else:\n",
    "                        Res[metric][' '.join(word.capitalize() for word in kb.split('_'))][rename_model] =\\\n",
    "                    '-'+'$\\pm$'+'-'\n",
    "                else:\n",
    "                    Res[metric][' '.join(word.capitalize() for word in kb.split('_'))][rename_model] =\\\n",
    "                    str(round(results[metric]['mean'],2))+'$\\pm$'+str(round(results[metric]['std'],2))\n",
    "            elif model == f'NCES_{kb_emb_model}':\n",
    "                with open(f'datasets/{kb}/Results/{model}.json') as file:\n",
    "                    results = json.load(file)\n",
    "                new_metric = rename_metric(metric)\n",
    "                for m in results:\n",
    "                    inducing_points = m.split(\"I\")[-1]\n",
    "                    rename_model = 'NCES$_{m\\\\text{='+inducing_points+'}}$'\n",
    "                    Res[metric][' '.join(word.capitalize() for word in kb.split('_'))][rename_model] =\\\n",
    "                    str(round(results[m][new_metric]['mean'][0],2))+'$\\pm$'+str(round(results[m][new_metric]['std'][0],2))\n",
    "            elif model == f'NCES_{kb_emb_model}_Ensemble':\n",
    "                with open(f'datasets/{kb}/Results/{model}.json') as file:\n",
    "                    results = json.load(file)\n",
    "                new_metric = rename_metric(metric)\n",
    "                for m in results:\n",
    "                    inducing_points = [name.split(\"I\")[-1] for name in m.split(\"+\")]\n",
    "                    new_name = ''\n",
    "                    for i,ind_pt in enumerate(inducing_points):\n",
    "                        if i != len(inducing_points)-1:\n",
    "                            new_name += 'm\\\\text{='+ind_pt+'+}'\n",
    "                        else:\n",
    "                            new_name += 'm\\\\text{='+ind_pt+'}'\n",
    "                    rename_model = 'NCES$_{'+new_name+'}$'\n",
    "                    Res[metric][' '.join(word.capitalize() for word in kb.split('_'))][rename_model] =\\\n",
    "                    str(round(results[m][new_metric]['mean'][0],2))+'$\\pm$'+str(round(results[m][new_metric]['std'][0],2))\n",
    "    return Res"
   ]
  },
  {
   "cell_type": "code",
   "execution_count": 4,
   "id": "medical-oracle",
   "metadata": {},
   "outputs": [],
   "source": [
    "Res1 = get_results('F-measure', 'ConEx')"
   ]
  },
  {
   "cell_type": "code",
   "execution_count": 5,
   "id": "urban-silicon",
   "metadata": {},
   "outputs": [
    {
     "data": {
      "text/plain": [
       "{'F-measure': {'Carcinogenesis': {'CELOE': '63.59$\\\\pm$38.31',\n",
       "   'ELTL': '38.14$\\\\pm$31.58',\n",
       "   'ECII': '37.12$\\\\pm$39.03',\n",
       "   'EvoLearner': '89.24$\\\\pm$18.53',\n",
       "   'NCES$_{m\\\\text{=32}}$': '89.77$\\\\pm$27.82',\n",
       "   'NCES$_{m\\\\text{=64}}$': '91.76$\\\\pm$23.86',\n",
       "   'NCES$_{m\\\\text{=128}}$': '89.89$\\\\pm$26.58',\n",
       "   'NCES$_{m\\\\text{=32+}m\\\\text{=64}}$': '94.38$\\\\pm$21.25',\n",
       "   'NCES$_{m\\\\text{=32+}m\\\\text{=128}}$': '93.12$\\\\pm$23.52',\n",
       "   'NCES$_{m\\\\text{=64+}m\\\\text{=128}}$': '93.08$\\\\pm$23.71',\n",
       "   'NCES$_{m\\\\text{=32+}m\\\\text{=64+}m\\\\text{=128}}$': '94.71$\\\\pm$21.24'},\n",
       "  'Mutagenesis': {'CELOE': '98.74$\\\\pm$4.53',\n",
       "   'ELTL': '47.07$\\\\pm$34.66',\n",
       "   'ECII': '43.65$\\\\pm$41.22',\n",
       "   'EvoLearner': '90.39$\\\\pm$10.22',\n",
       "   'NCES$_{m\\\\text{=32}}$': '77.49$\\\\pm$35.75',\n",
       "   'NCES$_{m\\\\text{=64}}$': '79.65$\\\\pm$28.45',\n",
       "   'NCES$_{m\\\\text{=128}}$': '81.62$\\\\pm$32.77',\n",
       "   'NCES$_{m\\\\text{=32+}m\\\\text{=64}}$': '85.97$\\\\pm$27.96',\n",
       "   'NCES$_{m\\\\text{=32+}m\\\\text{=128}}$': '93.33$\\\\pm$15.02',\n",
       "   'NCES$_{m\\\\text{=64+}m\\\\text{=128}}$': '87.95$\\\\pm$26.75',\n",
       "   'NCES$_{m\\\\text{=32+}m\\\\text{=64+}m\\\\text{=128}}$': '90.92$\\\\pm$21.39'},\n",
       "  'Semantic Bible': {'CELOE': '97.86$\\\\pm$6.88',\n",
       "   'ELTL': '31.82$\\\\pm$29.95',\n",
       "   'ECII': '48.12$\\\\pm$40.57',\n",
       "   'EvoLearner': '94.5$\\\\pm$8.2',\n",
       "   'NCES$_{m\\\\text{=32}}$': '85.47$\\\\pm$27.78',\n",
       "   'NCES$_{m\\\\text{=64}}$': '71.52$\\\\pm$37.94',\n",
       "   'NCES$_{m\\\\text{=128}}$': '64.35$\\\\pm$39.9',\n",
       "   'NCES$_{m\\\\text{=32+}m\\\\text{=64}}$': '77.13$\\\\pm$37.33',\n",
       "   'NCES$_{m\\\\text{=32+}m\\\\text{=128}}$': '81.04$\\\\pm$32.04',\n",
       "   'NCES$_{m\\\\text{=64+}m\\\\text{=128}}$': '86.07$\\\\pm$28.89',\n",
       "   'NCES$_{m\\\\text{=32+}m\\\\text{=64+}m\\\\text{=128}}$': '83.5$\\\\pm$29.94'},\n",
       "  'Vicodi': {'CELOE': '63.66$\\\\pm$34.91',\n",
       "   'ELTL': '35.48$\\\\pm$34.06',\n",
       "   'ECII': '89.07$\\\\pm$23.01',\n",
       "   'EvoLearner': '91.54$\\\\pm$13.21',\n",
       "   'NCES$_{m\\\\text{=32}}$': '92.15$\\\\pm$23.66',\n",
       "   'NCES$_{m\\\\text{=64}}$': '89.75$\\\\pm$26.69',\n",
       "   'NCES$_{m\\\\text{=128}}$': '89.56$\\\\pm$26.3',\n",
       "   'NCES$_{m\\\\text{=32+}m\\\\text{=64}}$': '97.55$\\\\pm$11.64',\n",
       "   'NCES$_{m\\\\text{=32+}m\\\\text{=128}}$': '97.62$\\\\pm$13.1',\n",
       "   'NCES$_{m\\\\text{=64+}m\\\\text{=128}}$': '97.3$\\\\pm$13.57',\n",
       "   'NCES$_{m\\\\text{=32+}m\\\\text{=64+}m\\\\text{=128}}$': '97.89$\\\\pm$12.19'}}}"
      ]
     },
     "execution_count": 5,
     "metadata": {},
     "output_type": "execute_result"
    }
   ],
   "source": [
    "Res1"
   ]
  },
  {
   "cell_type": "code",
   "execution_count": 6,
   "id": "greater-parliament",
   "metadata": {},
   "outputs": [],
   "source": [
    "def write_results(metric, kb_emb_model):\n",
    "    data = get_results(metric, kb_emb_model)\n",
    "    with open(f'{kb_emb_model}_{metric}.txt', 'w') as file:\n",
    "        for key in data:\n",
    "            file.write(\"\\\\begin{tabular}{@{}lccccccc@{}}\\n\")\n",
    "            file.write(\"\\t\\t\\\\toprule\\n\")\n",
    "            file.write(\"\\t\\t& \\\\multicolumn{4}{c}{\"+\"$\"+metric+\"(\\%)$}\\\\\\\\\\n\")\n",
    "            file.write(\"\\t\\t&\"+\" & \".join([\"\\\\textbf{\"+kb+\"}\" for kb in data[key]])+\"\\\\\\\\\\n\")\n",
    "            file.write(\"\\\\midrule\\n\")\n",
    "            for model in data[key]['Carcinogenesis']:\n",
    "                file.write(\"\\t\\t\"+model+\" & \"+\" & \".join([data[key][kb][model] for kb in data[key]])+\"\\\\\\\\\\n\")"
   ]
  },
  {
   "cell_type": "code",
   "execution_count": 7,
   "id": "warming-christmas",
   "metadata": {},
   "outputs": [],
   "source": [
    "write_results('F-measure', 'ConEx')"
   ]
  },
  {
   "cell_type": "code",
   "execution_count": 8,
   "id": "gothic-receipt",
   "metadata": {},
   "outputs": [],
   "source": [
    "write_results('Accuracy', 'ConEx')"
   ]
  },
  {
   "cell_type": "code",
   "execution_count": 9,
   "id": "cosmetic-sunday",
   "metadata": {},
   "outputs": [],
   "source": [
    "write_results('Runtime', 'ConEx')"
   ]
  },
  {
   "cell_type": "code",
   "execution_count": null,
   "id": "desperate-windsor",
   "metadata": {},
   "outputs": [],
   "source": []
  },
  {
   "cell_type": "code",
   "execution_count": 12,
   "id": "thrown-arrangement",
   "metadata": {},
   "outputs": [],
   "source": [
    "write_results('F-measure', 'Distmult')"
   ]
  },
  {
   "cell_type": "code",
   "execution_count": 13,
   "id": "renewable-prague",
   "metadata": {},
   "outputs": [],
   "source": [
    "write_results('Accuracy', 'Distmult')"
   ]
  },
  {
   "cell_type": "code",
   "execution_count": 14,
   "id": "assumed-macedonia",
   "metadata": {},
   "outputs": [],
   "source": [
    "write_results('Runtime', 'Distmult')"
   ]
  },
  {
   "cell_type": "code",
   "execution_count": null,
   "id": "incorporate-adventure",
   "metadata": {},
   "outputs": [],
   "source": []
  }
 ],
 "metadata": {
  "kernelspec": {
   "display_name": "nces",
   "language": "python",
   "name": "nces"
  },
  "language_info": {
   "codemirror_mode": {
    "name": "ipython",
    "version": 3
   },
   "file_extension": ".py",
   "mimetype": "text/x-python",
   "name": "python",
   "nbconvert_exporter": "python",
   "pygments_lexer": "ipython3",
   "version": "3.9.4"
  }
 },
 "nbformat": 4,
 "nbformat_minor": 5
}
