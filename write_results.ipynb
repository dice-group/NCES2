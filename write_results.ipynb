{
 "cells": [
  {
   "cell_type": "code",
   "execution_count": 1,
   "id": "dated-aggregate",
   "metadata": {},
   "outputs": [],
   "source": [
    "import json"
   ]
  },
  {
   "cell_type": "code",
   "execution_count": 2,
   "id": "individual-skating",
   "metadata": {},
   "outputs": [],
   "source": [
    "def rename_metric(metric):\n",
    "    if metric == 'F-measure':\n",
    "        return 'f1'\n",
    "    if metric == 'Accuracy':\n",
    "        return 'acc'\n",
    "    if metric == 'Runtime':\n",
    "        return 'time'\n",
    "    raise ValueError('Unknown metric')"
   ]
  },
  {
   "cell_type": "code",
   "execution_count": 3,
   "id": "international-depression",
   "metadata": {},
   "outputs": [],
   "source": [
    "def maybe_add_zero(mean, std):\n",
    "    if len(mean.split('.')[-1]) == 1:\n",
    "        mean += '0'\n",
    "    if len(std.split('.')[-1]) == 1:\n",
    "        std += '0'\n",
    "    return mean, std"
   ]
  },
  {
   "cell_type": "code",
   "execution_count": 4,
   "id": "automotive-necessity",
   "metadata": {},
   "outputs": [],
   "source": [
    "def get_results(metric, kb_emb_model):\n",
    "    Res = {metric: {'Carcinogenesis': {'CELOE': '', 'ELTL': '', 'ECII': '', 'EvoLearner': '', 'NCES$_{m\\\\text{=32}}$': '', 'NCES$_{m\\\\text{=64}}$': '',\\\n",
    "                                       'NCES$_{m\\\\text{=128}}$': '', 'NCES$_{m\\\\text{=32+}m\\\\text{=64}}$': '', 'NCES$_{m\\\\text{=32+}m\\\\text{=128}}$': '',\\\n",
    "                                       'NCES$_{m\\\\text{=64+}m\\\\text{=128}}$': '', 'NCES$_{m\\\\text{=32+}m\\\\text{=64+}m\\\\text{=128}}$': ''},\n",
    "                   'Mutagenesis': {'CELOE': '', 'ELTL': '', 'ECII': '', 'EvoLearner': '', 'NCES$_{m\\\\text{=32}}$': '', 'NCES$_{m\\\\text{=64}}$': '',\\\n",
    "                                       'NCES$_{m\\\\text{=128}}$': '', 'NCES$_{m\\\\text{=32+}m\\\\text{=64}}$': '', 'NCES$_{m\\\\text{=32+}m\\\\text{=128}}$': '',\\\n",
    "                                       'NCES$_{m\\\\text{=64+}m\\\\text{=128}}$': '', 'NCES$_{m\\\\text{=32+}m\\\\text{=64+}m\\\\text{=128}}$': ''},\n",
    "                    'Semantic Bible': {'CELOE': '', 'ELTL': '', 'ECII': '', 'EvoLearner': '', 'NCES$_{m\\\\text{=32}}$': '', 'NCES$_{m\\\\text{=64}}$': '',\\\n",
    "                                       'NCES$_{m\\\\text{=128}}$': '', 'NCES$_{m\\\\text{=32+}m\\\\text{=64}}$': '', 'NCES$_{m\\\\text{=32+}m\\\\text{=128}}$': '',\\\n",
    "                                       'NCES$_{m\\\\text{=64+}m\\\\text{=128}}$': '', 'NCES$_{m\\\\text{=32+}m\\\\text{=64+}m\\\\text{=128}}$': ''},\n",
    "                    'Vicodi': {'CELOE': '', 'ELTL': '', 'ECII': '', 'EvoLearner': '', 'NCES$_{m\\\\text{=32}}$': '', 'NCES$_{m\\\\text{=64}}$': '',\\\n",
    "                                       'NCES$_{m\\\\text{=128}}$': '', 'NCES$_{m\\\\text{=32+}m\\\\text{=64}}$': '', 'NCES$_{m\\\\text{=32+}m\\\\text{=128}}$': '',\\\n",
    "                                       'NCES$_{m\\\\text{=64+}m\\\\text{=128}}$': '', 'NCES$_{m\\\\text{=32+}m\\\\text{=64+}m\\\\text{=128}}$': ''}\n",
    "                   }}\n",
    "    for kb in ['carcinogenesis', 'mutagenesis', 'semantic_bible', 'vicodi']:\n",
    "        for model in ['celoe', 'eltl', 'ecii', 'evolearner', f'NCES_{kb_emb_model}', f'NCES_{kb_emb_model}_Ensemble']:\n",
    "            if model not in [f'NCES_{kb_emb_model}', f'NCES_{kb_emb_model}_Ensemble']:\n",
    "                rename_model = model.upper() if model != 'evolearner' else 'EvoLearner'\n",
    "                with open(f'datasets/{kb}/Results/{rename_model}_avg_results.json') as file:\n",
    "                    results = json.load(file)\n",
    "                mean = str(round(results[metric]['mean'],2)); std = str(round(results[metric]['std'],2))\n",
    "                mean, std = maybe_add_zero(mean, std)\n",
    "                Res[metric][' '.join(word.capitalize() for word in kb.split('_'))][rename_model] = mean+'$\\pm$'+std\n",
    "            elif model == f'NCES_{kb_emb_model}':\n",
    "                path = f'datasets/{kb}/Results/{model}.json'\n",
    "                if kb_emb_model == \"DistMult\":\n",
    "                    path = f'datasets/{kb}/Results/{model}_{kb_emb_model}.json'\n",
    "                with open(path) as file:\n",
    "                    results = json.load(file)\n",
    "                new_metric = rename_metric(metric)\n",
    "                for m in results: \n",
    "                    inducing_points = m.split(\"I\")[-1]\n",
    "                    rename_model = 'NCES$_{m\\\\text{='+inducing_points+'}}$'\n",
    "                    mean = str(round(results[m][new_metric]['mean'][0],2))\n",
    "                    std = str(round(results[m][new_metric]['std'][0],2))\n",
    "                    mean, std = maybe_add_zero(mean, std)\n",
    "                    Res[metric][' '.join(word.capitalize() for word in kb.split('_'))][rename_model] = mean+'$\\pm$'+std\n",
    "            elif model == f'NCES_{kb_emb_model}_Ensemble':\n",
    "                path = f'datasets/{kb}/Results/{model}.json'\n",
    "                if kb_emb_model == \"DistMult\":\n",
    "                    path = f'datasets/{kb}/Results/NCES_DistMult_Ensemble.json'\n",
    "                with open(path) as file:\n",
    "                    results = json.load(file)\n",
    "                new_metric = rename_metric(metric)\n",
    "                for m in results:\n",
    "                    inducing_points = [name.split(\"I\")[-1] for name in m.split(\"+\")]\n",
    "                    new_name = ''\n",
    "                    for i,ind_pt in enumerate(inducing_points):\n",
    "                        if i != len(inducing_points)-1:\n",
    "                            new_name += 'm\\\\text{='+ind_pt+'+}'\n",
    "                        else:\n",
    "                            new_name += 'm\\\\text{='+ind_pt+'}'\n",
    "                    rename_model = 'NCES$_{'+new_name+'}$'\n",
    "                    mean = str(round(results[m][new_metric]['mean'][0],2)); std = str(round(results[m][new_metric]['std'][0],2))\n",
    "                    mean, std = maybe_add_zero(mean, std)\n",
    "                    Res[metric][' '.join(word.capitalize() for word in kb.split('_'))][rename_model] = mean+'$\\pm$'+std\n",
    "    return Res"
   ]
  },
  {
   "cell_type": "code",
   "execution_count": 5,
   "id": "invisible-thread",
   "metadata": {},
   "outputs": [],
   "source": [
    "Res1 = get_results('F-measure', 'ConEx')"
   ]
  },
  {
   "cell_type": "code",
   "execution_count": 6,
   "id": "early-shame",
   "metadata": {},
   "outputs": [
    {
     "data": {
      "text/plain": [
       "{'F-measure': {'Carcinogenesis': {'CELOE': '29.24$\\\\pm$39.22',\n",
       "   'ELTL': '14.46$\\\\pm$28.48',\n",
       "   'ECII': '18.91$\\\\pm$31.46',\n",
       "   'EvoLearner': '89.34$\\\\pm$15.80',\n",
       "   'NCES$_{m\\\\text{=32}}$': '83.56$\\\\pm$33.11',\n",
       "   'NCES$_{m\\\\text{=64}}$': '83.92$\\\\pm$33.16',\n",
       "   'NCES$_{m\\\\text{=128}}$': '86.06$\\\\pm$32.63',\n",
       "   'NCES$_{m\\\\text{=32+}m\\\\text{=64}}$': '92.13$\\\\pm$24.61',\n",
       "   'NCES$_{m\\\\text{=32+}m\\\\text{=128}}$': '91.01$\\\\pm$26.80',\n",
       "   'NCES$_{m\\\\text{=64+}m\\\\text{=128}}$': '92.57$\\\\pm$24.08',\n",
       "   'NCES$_{m\\\\text{=32+}m\\\\text{=64+}m\\\\text{=128}}$': '91.29$\\\\pm$24.96'},\n",
       "  'Mutagenesis': {'CELOE': '74.46$\\\\pm$37.59',\n",
       "   'ELTL': '36.33$\\\\pm$34.98',\n",
       "   'ECII': '34.33$\\\\pm$31.53',\n",
       "   'EvoLearner': '95.37$\\\\pm$8.02',\n",
       "   'NCES$_{m\\\\text{=32}}$': '76.79$\\\\pm$38.61',\n",
       "   'NCES$_{m\\\\text{=64}}$': '78.25$\\\\pm$37.18',\n",
       "   'NCES$_{m\\\\text{=128}}$': '73.21$\\\\pm$38.31',\n",
       "   'NCES$_{m\\\\text{=32+}m\\\\text{=64}}$': '83.09$\\\\pm$34.04',\n",
       "   'NCES$_{m\\\\text{=32+}m\\\\text{=128}}$': '86.33$\\\\pm$31.54',\n",
       "   'NCES$_{m\\\\text{=64+}m\\\\text{=128}}$': '84.18$\\\\pm$32.30',\n",
       "   'NCES$_{m\\\\text{=32+}m\\\\text{=64+}m\\\\text{=128}}$': '85.12$\\\\pm$32.28'},\n",
       "  'Semantic Bible': {'CELOE': '88.60$\\\\pm$19.50',\n",
       "   'ELTL': '35.21$\\\\pm$31.74',\n",
       "   'ECII': '32.79$\\\\pm$32.18',\n",
       "   'EvoLearner': '88.38$\\\\pm$12.50',\n",
       "   'NCES$_{m\\\\text{=32}}$': '70.77$\\\\pm$33.73',\n",
       "   'NCES$_{m\\\\text{=64}}$': '71.77$\\\\pm$34.03',\n",
       "   'NCES$_{m\\\\text{=128}}$': '69.95$\\\\pm$36.13',\n",
       "   'NCES$_{m\\\\text{=32+}m\\\\text{=64}}$': '79.40$\\\\pm$32.22',\n",
       "   'NCES$_{m\\\\text{=32+}m\\\\text{=128}}$': '77.80$\\\\pm$34.52',\n",
       "   'NCES$_{m\\\\text{=64+}m\\\\text{=128}}$': '78.92$\\\\pm$32.84',\n",
       "   'NCES$_{m\\\\text{=32+}m\\\\text{=64+}m\\\\text{=128}}$': '77.00$\\\\pm$35.25'},\n",
       "  'Vicodi': {'CELOE': '22.63$\\\\pm$35.21',\n",
       "   'ELTL': '8.58$\\\\pm$22.94',\n",
       "   'ECII': '29.20$\\\\pm$30.81',\n",
       "   'EvoLearner': '76.99$\\\\pm$26.37',\n",
       "   'NCES$_{m\\\\text{=32}}$': '82.36$\\\\pm$32.05',\n",
       "   'NCES$_{m\\\\text{=64}}$': '82.64$\\\\pm$31.28',\n",
       "   'NCES$_{m\\\\text{=128}}$': '83.50$\\\\pm$30.85',\n",
       "   'NCES$_{m\\\\text{=32+}m\\\\text{=64}}$': '90.67$\\\\pm$24.07',\n",
       "   'NCES$_{m\\\\text{=32+}m\\\\text{=128}}$': '87.68$\\\\pm$26.48',\n",
       "   'NCES$_{m\\\\text{=64+}m\\\\text{=128}}$': '86.49$\\\\pm$29.33',\n",
       "   'NCES$_{m\\\\text{=32+}m\\\\text{=64+}m\\\\text{=128}}$': '91.06$\\\\pm$23.97'}}}"
      ]
     },
     "execution_count": 6,
     "metadata": {},
     "output_type": "execute_result"
    }
   ],
   "source": [
    "Res1"
   ]
  },
  {
   "cell_type": "code",
   "execution_count": 5,
   "id": "automatic-outreach",
   "metadata": {},
   "outputs": [],
   "source": [
    "def write_results(metric, kb_emb_model):\n",
    "    data = get_results(metric, kb_emb_model)\n",
    "    with open(f'{kb_emb_model}_{metric}.txt', 'w') as file:\n",
    "        for key in data:\n",
    "            file.write(\"\\\\begin{tabular}{@{}lccccccc@{}}\\n\")\n",
    "            file.write(\"\\t\\t\\\\toprule\\n\")\n",
    "            file.write(\"\\t\\t& \\\\multicolumn{4}{c}{\"+\"$\"+metric+\"(\\%)$}\\\\\\\\\\n\")\n",
    "            file.write(\"\\t\\t&\"+\" & \".join([\"\\\\textbf{\"+kb+\"}\" for kb in data[key]])+\"\\\\\\\\\\n\")\n",
    "            file.write(\"\\t\\t\\\\midrule\\n\")\n",
    "            for model in data[key]['Carcinogenesis']:\n",
    "                file.write(\"\\t\\t\"+model+\" & \"+\" & \".join([data[key][kb][model] for kb in data[key]])+\"\\\\\\\\\\n\")"
   ]
  },
  {
   "cell_type": "code",
   "execution_count": 16,
   "id": "cultural-album",
   "metadata": {},
   "outputs": [],
   "source": [
    "write_results('F-measure', 'ConEx')"
   ]
  },
  {
   "cell_type": "code",
   "execution_count": 17,
   "id": "gentle-regression",
   "metadata": {},
   "outputs": [],
   "source": [
    "write_results('Accuracy', 'ConEx')"
   ]
  },
  {
   "cell_type": "code",
   "execution_count": 18,
   "id": "satisfied-twelve",
   "metadata": {},
   "outputs": [],
   "source": [
    "write_results('Runtime', 'ConEx')"
   ]
  },
  {
   "cell_type": "code",
   "execution_count": null,
   "id": "looking-friendship",
   "metadata": {},
   "outputs": [],
   "source": []
  },
  {
   "cell_type": "code",
   "execution_count": 9,
   "id": "isolated-spell",
   "metadata": {},
   "outputs": [],
   "source": [
    "write_results('F-measure', 'Distmult')"
   ]
  },
  {
   "cell_type": "code",
   "execution_count": 10,
   "id": "restricted-palace",
   "metadata": {},
   "outputs": [],
   "source": [
    "write_results('Accuracy', 'Distmult')"
   ]
  },
  {
   "cell_type": "code",
   "execution_count": 11,
   "id": "prescribed-prompt",
   "metadata": {},
   "outputs": [],
   "source": [
    "write_results('Runtime', 'Distmult')"
   ]
  },
  {
   "cell_type": "code",
   "execution_count": null,
   "id": "honey-moscow",
   "metadata": {},
   "outputs": [],
   "source": []
  }
 ],
 "metadata": {
  "kernelspec": {
   "display_name": "nces",
   "language": "python",
   "name": "nces"
  },
  "language_info": {
   "codemirror_mode": {
    "name": "ipython",
    "version": 3
   },
   "file_extension": ".py",
   "mimetype": "text/x-python",
   "name": "python",
   "nbconvert_exporter": "python",
   "pygments_lexer": "ipython3",
   "version": "3.9.4"
  }
 },
 "nbformat": 4,
 "nbformat_minor": 5
}
