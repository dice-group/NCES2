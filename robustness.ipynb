{
 "cells": [
  {
   "cell_type": "code",
   "execution_count": 1,
   "id": "completed-curve",
   "metadata": {},
   "outputs": [],
   "source": [
    "def generate_lps(kb, num_lps=128):\n",
    "    import random\n",
    "    random.seed(1)\n",
    "    import json\n",
    "    from ontolearn.knowledge_base import KnowledgeBase\n",
    "    KB = KnowledgeBase(path=f\"datasets/{kb}/{kb}.owl\")\n",
    "    N_I = list(ind.get_iri().as_str().split(\"/\")[-1] for ind in KB.individuals())\n",
    "    lps = dict()\n",
    "    for i in range(num_lps):\n",
    "        pos = random.sample(N_I, k=min(500,len(N_I)//2))\n",
    "        neg = random.sample(list(set(N_I)-set(pos)), k=min(500,len(N_I)//2))\n",
    "        lps.update({f'lp_{i}': {'positive examples': pos, 'negative examples': neg}})\n",
    "    with open(f\"datasets/{kb}/Test_data/Data_robust.json\", \"w\") as file:\n",
    "        json.dump(lps, file)"
   ]
  },
  {
   "cell_type": "code",
   "execution_count": 2,
   "id": "manufactured-symbol",
   "metadata": {},
   "outputs": [
    {
     "name": "stderr",
     "output_type": "stream",
     "text": [
      "* Owlready2 * Warning: optimized Cython parser module 'owlready2_optimized' is not available, defaulting to slower Python implementation\n"
     ]
    }
   ],
   "source": [
    "generate_lps('carcinogenesis')"
   ]
  },
  {
   "cell_type": "code",
   "execution_count": 3,
   "id": "illegal-collaboration",
   "metadata": {},
   "outputs": [],
   "source": [
    "generate_lps('mutagenesis')"
   ]
  },
  {
   "cell_type": "code",
   "execution_count": 4,
   "id": "embedded-startup",
   "metadata": {},
   "outputs": [],
   "source": [
    "generate_lps('semantic_bible')"
   ]
  },
  {
   "cell_type": "code",
   "execution_count": 5,
   "id": "labeled-construction",
   "metadata": {},
   "outputs": [],
   "source": [
    "generate_lps('vicodi')"
   ]
  },
  {
   "cell_type": "code",
   "execution_count": null,
   "id": "twenty-slovakia",
   "metadata": {},
   "outputs": [],
   "source": []
  }
 ],
 "metadata": {
  "kernelspec": {
   "display_name": "nces",
   "language": "python",
   "name": "nces"
  },
  "language_info": {
   "codemirror_mode": {
    "name": "ipython",
    "version": 3
   },
   "file_extension": ".py",
   "mimetype": "text/x-python",
   "name": "python",
   "nbconvert_exporter": "python",
   "pygments_lexer": "ipython3",
   "version": "3.9.4"
  }
 },
 "nbformat": 4,
 "nbformat_minor": 5
}
